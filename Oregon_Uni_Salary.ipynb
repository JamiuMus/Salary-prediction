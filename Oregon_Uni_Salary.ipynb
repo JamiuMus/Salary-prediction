{
 "cells": [
  {
   "cell_type": "markdown",
   "metadata": {},
   "source": [
    "# <span style='font-family:Georgia'> Oregon State University Salary Prediction\n",
    "\n",
    "<span style='font-family:Georgia'>The dataset was sourced from <a href=\"https://catalog.data.gov/dataset/salaries-ous-oregon-state-university-fy-2014-33235\" target=\"_blank\">data.gov</a>. It is the data for FY 2014.\n",
    "\n",
    "\n",
    "<span style='font-family:Georgia'>The data consists of the below features and target to predict workers salaries:\n",
    "\n",
    "### <span style='font-family:Georgia'>Features  \n",
    "<span style='font-family:Georgia'>- AGENCY #: Agency number  \n",
    "<span style='font-family:Georgia'>- AGENCY TITLE: University name   \n",
    "<span style='font-family:Georgia'>- CLASSIFICATION: Workers job title  \n",
    "<span style='font-family:Georgia'>- SERVICE TYPE: Service type  \n",
    "<span style='font-family:Georgia'>- FULL/PART-TIME: Working part-time or full-time\n",
    "    \n",
    "### <span style='font-family:Georgia'>Target  \n",
    "<span style='font-family:Georgia'>- ANNUAL SALARY: Worker annual salary  \n",
    "\n",
    "### <span style='font-family:Georgia'>Aim\n",
    "<span style='font-family:Georgia'>To develop a machine learning model for predicting worker salary. \n",
    "\n",
    "<span style='font-family:Georgia'>Framing of the task: This is a supervised regression problem as the target value (salary) is continous. We will then build a model that will learn an optimal relationship between the features matrix listed above and the target vector (salary)."
   ]
  },
  {
   "cell_type": "markdown",
   "metadata": {},
   "source": [
    "# <span style='font-family:Georgia'> Setup"
   ]
  },
  {
   "cell_type": "code",
   "execution_count": 1,
   "metadata": {},
   "outputs": [],
   "source": [
    "# Imports\n",
    "import numpy as np\n",
    "import pandas as pd\n",
    "import os\n",
    "import matplotlib.pyplot as plt\n",
    "\n",
    "# Ignore warnings\n",
    "import warnings\n",
    "warnings.filterwarnings(action=\"ignore\", message=\"^internal gelsd\")\n",
    "\n",
    "# Function to plot and visualize the learning curve of the algorithm \n",
    "def plot_learning_curves(model, X, y):\n",
    "    X_train, X_val, y_train, y_val = train_test_split(X, y, test_size=0.2)\n",
    "    train_errors, val_errors = [], []\n",
    "    for m in range(1, len(X_train)):\n",
    "        model.fit(X_train[:m], y_train[:m])\n",
    "        y_train_predict = model.predict(X_train[:m])\n",
    "        y_val_predict = model.predict(X_val)\n",
    "        train_errors.append(mean_squared_error(y_train_predict, y_train[:m]))\n",
    "        val_errors.append(mean_squared_error(y_val_predict, y_val))\n",
    "    plt.plot(np.sqrt(train_errors), \"r-+\", linewidth=1.5, label=\"train\")\n",
    "    plt.plot(np.sqrt(val_errors), \"b-\", linewidth=1.5, label=\"val\")\n",
    "    plt.legend(loc=\"upper right\", fontsize=14)\n",
    "    plt.xlabel(\"Training set size\", fontsize=14)\n",
    "    plt.ylabel(\"RMSE\", fontsize=14)"
   ]
  },
  {
   "cell_type": "markdown",
   "metadata": {},
   "source": [
    "# <span style='font-family:Georgia'>Retrieve the data"
   ]
  },
  {
   "cell_type": "code",
   "execution_count": 7,
   "metadata": {},
   "outputs": [],
   "source": [
    "# Data import\n",
    "data_path = os.path.join(\"datasets\", \"Oregon_Uni_data\", \"Salaries__OUS__Oregon_State_University__FY_2014.csv\")\n",
    "OU_salary = pd.read_csv(data_path)"
   ]
  },
  {
   "cell_type": "markdown",
   "metadata": {},
   "source": [
    "# <span style='font-family:Georgia'>Explore the data"
   ]
  },
  {
   "cell_type": "code",
   "execution_count": 8,
   "metadata": {},
   "outputs": [
    {
     "data": {
      "text/html": [
       "<div>\n",
       "<style scoped>\n",
       "    .dataframe tbody tr th:only-of-type {\n",
       "        vertical-align: middle;\n",
       "    }\n",
       "\n",
       "    .dataframe tbody tr th {\n",
       "        vertical-align: top;\n",
       "    }\n",
       "\n",
       "    .dataframe thead th {\n",
       "        text-align: right;\n",
       "    }\n",
       "</style>\n",
       "<table border=\"1\" class=\"dataframe\">\n",
       "  <thead>\n",
       "    <tr style=\"text-align: right;\">\n",
       "      <th></th>\n",
       "      <th>AGENCY #</th>\n",
       "      <th>AGENCY TITLE</th>\n",
       "      <th>CLASSIFICATION</th>\n",
       "      <th>SERVICE TYPE</th>\n",
       "      <th>FULL/PART-TIME</th>\n",
       "      <th>ANNUAL SALARY</th>\n",
       "    </tr>\n",
       "  </thead>\n",
       "  <tbody>\n",
       "    <tr>\n",
       "      <th>0</th>\n",
       "      <td>58030</td>\n",
       "      <td>OUS - Oregon State University</td>\n",
       "      <td>Administrator 3-Tier 1 H-COA</td>\n",
       "      <td>Executive/Admin and managerial</td>\n",
       "      <td>Full-Time</td>\n",
       "      <td>1060008</td>\n",
       "    </tr>\n",
       "    <tr>\n",
       "      <th>1</th>\n",
       "      <td>58030</td>\n",
       "      <td>OUS - Oregon State University</td>\n",
       "      <td>Administrator 3-PAC12 Md H-COA</td>\n",
       "      <td>Executive/Admin and managerial</td>\n",
       "      <td>Full-Time</td>\n",
       "      <td>800004</td>\n",
       "    </tr>\n",
       "    <tr>\n",
       "      <th>2</th>\n",
       "      <td>58030</td>\n",
       "      <td>OUS - Oregon State University</td>\n",
       "      <td>Executive 3-Athletics</td>\n",
       "      <td>Executive/Admin and managerial</td>\n",
       "      <td>Full-Time</td>\n",
       "      <td>545508</td>\n",
       "    </tr>\n",
       "    <tr>\n",
       "      <th>3</th>\n",
       "      <td>58030</td>\n",
       "      <td>OUS - Oregon State University</td>\n",
       "      <td>Coordinator-Tier 1 Asst COA</td>\n",
       "      <td>Other professionals</td>\n",
       "      <td>Full-Time</td>\n",
       "      <td>490008</td>\n",
       "    </tr>\n",
       "    <tr>\n",
       "      <th>4</th>\n",
       "      <td>58030</td>\n",
       "      <td>OUS - Oregon State University</td>\n",
       "      <td>Executive 1-President</td>\n",
       "      <td>Executive/Admin and managerial</td>\n",
       "      <td>Full-Time</td>\n",
       "      <td>485088</td>\n",
       "    </tr>\n",
       "  </tbody>\n",
       "</table>\n",
       "</div>"
      ],
      "text/plain": [
       "   AGENCY #                   AGENCY TITLE                  CLASSIFICATION  \\\n",
       "0     58030  OUS - Oregon State University    Administrator 3-Tier 1 H-COA   \n",
       "1     58030  OUS - Oregon State University  Administrator 3-PAC12 Md H-COA   \n",
       "2     58030  OUS - Oregon State University           Executive 3-Athletics   \n",
       "3     58030  OUS - Oregon State University     Coordinator-Tier 1 Asst COA   \n",
       "4     58030  OUS - Oregon State University           Executive 1-President   \n",
       "\n",
       "                     SERVICE TYPE FULL/PART-TIME  ANNUAL SALARY  \n",
       "0  Executive/Admin and managerial      Full-Time        1060008  \n",
       "1  Executive/Admin and managerial      Full-Time         800004  \n",
       "2  Executive/Admin and managerial      Full-Time         545508  \n",
       "3             Other professionals      Full-Time         490008  \n",
       "4  Executive/Admin and managerial      Full-Time         485088  "
      ]
     },
     "execution_count": 8,
     "metadata": {},
     "output_type": "execute_result"
    }
   ],
   "source": [
    "OU_salary.head()"
   ]
  },
  {
   "cell_type": "code",
   "execution_count": 9,
   "metadata": {},
   "outputs": [
    {
     "name": "stdout",
     "output_type": "stream",
     "text": [
      "<class 'pandas.core.frame.DataFrame'>\n",
      "RangeIndex: 5243 entries, 0 to 5242\n",
      "Data columns (total 6 columns):\n",
      "AGENCY #          5243 non-null int64\n",
      "AGENCY TITLE      5243 non-null object\n",
      "CLASSIFICATION    5243 non-null object\n",
      "SERVICE TYPE      5243 non-null object\n",
      "FULL/PART-TIME    5243 non-null object\n",
      "ANNUAL SALARY     5243 non-null int64\n",
      "dtypes: int64(2), object(4)\n",
      "memory usage: 245.8+ KB\n"
     ]
    }
   ],
   "source": [
    "OU_salary.info()"
   ]
  },
  {
   "cell_type": "code",
   "execution_count": 10,
   "metadata": {},
   "outputs": [
    {
     "data": {
      "text/plain": [
       "(5243, 6)"
      ]
     },
     "execution_count": 10,
     "metadata": {},
     "output_type": "execute_result"
    }
   ],
   "source": [
    "OU_salary.shape"
   ]
  },
  {
   "cell_type": "code",
   "execution_count": 11,
   "metadata": {},
   "outputs": [
    {
     "name": "stdout",
     "output_type": "stream",
     "text": [
      "Number of null values in AGENCY # is: 0\n",
      "Number of null values in AGENCY TITLE is: 0\n",
      "Number of null values in CLASSIFICATION is: 0\n",
      "Number of null values in SERVICE TYPE is: 0\n",
      "Number of null values in FULL/PART-TIME is: 0\n",
      "Number of null values in ANNUAL SALARY is: 0\n"
     ]
    }
   ],
   "source": [
    "# Check null values in each column\n",
    "for column in OU_salary.columns:\n",
    "    print(f\"Number of null values in {column} is:\", OU_salary[column].isnull().sum())"
   ]
  },
  {
   "cell_type": "code",
   "execution_count": 12,
   "metadata": {},
   "outputs": [
    {
     "name": "stdout",
     "output_type": "stream",
     "text": [
      "Categories count in column AGENCY # is:\n",
      " 58030    5243\n",
      "Name: AGENCY #, dtype: int64\n",
      "Categories count in column AGENCY TITLE is:\n",
      " OUS - Oregon State University    5243\n",
      "Name: AGENCY TITLE, dtype: int64\n",
      "Categories count in column CLASSIFICATION is:\n",
      " Instructor                        532\n",
      "Associate Professor               338\n",
      "Professor                         332\n",
      "Faculty Research Assistant        264\n",
      "Assistant Professor               259\n",
      "Office Specialist 2               202\n",
      "Senior Faculty Research Asst I    127\n",
      "Administrative Program Assist      92\n",
      "Research Associate                 79\n",
      "Consultant-Academic Advisor        70\n",
      "Research Associate (Post Doc)      69\n",
      "Senior Instructor I                67\n",
      "Assistant Professor (Sr Res)       67\n",
      "Education Program Assistant 1      66\n",
      "Analyst Programmer                 64\n",
      "Coordinator-Outreach Program       57\n",
      "Office Specialist 1                55\n",
      "Office Manager 1                   51\n",
      "Administrative Program Spec        45\n",
      "Instructor- ESL                    44\n",
      "Accountant 1                       43\n",
      "Info Technology Consultant         43\n",
      "Administrator 1-Tenure Dir         41\n",
      "Oper Systems-Network Analyst       39\n",
      "Instructor (PAC)                   38\n",
      "Executive Assistant                37\n",
      "Coordinator-Academic Program 2     37\n",
      "Trades/Maintenance Worker 2        32\n",
      "Administrative Assistant To        31\n",
      "Veterinary Technician 2            29\n",
      "                                 ... \n",
      "Ship's 1st Assistant Engineer       1\n",
      "Stage Production Coordinator        1\n",
      "Administrator 3-Unit Bus Ops        1\n",
      "Administrator 1-Research            1\n",
      "Medical Records Specialist          1\n",
      "Specialist 2-Marine Data Syst       1\n",
      "Archivist                           1\n",
      "Research Assoiciate (Post Doc)      1\n",
      "Manager 1-Marine Tech               1\n",
      "Specialist 1 - End Chair            1\n",
      "Administrator 2-IT Technical        1\n",
      "Administrator 3-Faclt/Ops           1\n",
      "Supervisor-Catering                 1\n",
      "Administrative Assistant to         1\n",
      "Specialist 2-Cri Couns/Cas Mgr      1\n",
      "Research Analyst 4                  1\n",
      "Research Analyst 2                  1\n",
      "Veterinary Assistant                1\n",
      "Radiologic Technologist 1           1\n",
      "Specialist 1-Counselor              1\n",
      "Administrator 1-Marine Supt         1\n",
      "Administrator 1-Academic IT         1\n",
      "Administrator 1-Intl Program        1\n",
      "Manager 1-Archivist                 1\n",
      "Administrator 1-Bus Ctrs            1\n",
      "Research Associate (Postdoc)        1\n",
      "Admin Specialist-Billing            1\n",
      "Supervisor-Patrol Sergeant          1\n",
      "Administrator 2-Benefits            1\n",
      "Specialist 2-Recruiting             1\n",
      "Name: CLASSIFICATION, Length: 572, dtype: int64\n",
      "Categories count in column SERVICE TYPE is:\n",
      " Faculty                           2309\n",
      "Classified Staff                  1451\n",
      "Other professionals                831\n",
      "Executive/Admin and managerial     652\n",
      "Name: SERVICE TYPE, dtype: int64\n",
      "Categories count in column FULL/PART-TIME is:\n",
      " Full-Time    4834\n",
      "Part-Time     409\n",
      "Name: FULL/PART-TIME, dtype: int64\n",
      "Categories count in column ANNUAL SALARY is:\n",
      " 38916     114\n",
      "42708      69\n",
      "33936      66\n",
      "37128      61\n",
      "35472      52\n",
      "46980      49\n",
      "28752      49\n",
      "40764      47\n",
      "31152      47\n",
      "44724      44\n",
      "29976      43\n",
      "32544      41\n",
      "26820      36\n",
      "27876      34\n",
      "56664      33\n",
      "49200      29\n",
      "45000      28\n",
      "41220      23\n",
      "48012      23\n",
      "51540      22\n",
      "51516      21\n",
      "60000      20\n",
      "56688      20\n",
      "74160      19\n",
      "42876      18\n",
      "66960      18\n",
      "40716      18\n",
      "50004      18\n",
      "46356      17\n",
      "61800      17\n",
      "         ... \n",
      "74740       1\n",
      "46032       1\n",
      "86988       1\n",
      "15305       1\n",
      "152520      1\n",
      "48069       1\n",
      "166851      1\n",
      "111552      1\n",
      "19391       1\n",
      "23004       1\n",
      "95196       1\n",
      "62448       1\n",
      "70696       1\n",
      "23537       1\n",
      "70692       1\n",
      "160800      1\n",
      "63912       1\n",
      "54300       1\n",
      "119832      1\n",
      "11287       1\n",
      "29712       1\n",
      "46092       1\n",
      "80901       1\n",
      "52227       1\n",
      "119808      1\n",
      "53304       1\n",
      "111612      1\n",
      "84987       1\n",
      "35748       1\n",
      "73728       1\n",
      "Name: ANNUAL SALARY, Length: 2766, dtype: int64\n"
     ]
    }
   ],
   "source": [
    "# Check categorical values in each column\n",
    "for column in OU_salary.columns:\n",
    "    print(\"Categories count in column {} is:\\n\".format(column),OU_salary[column].value_counts())\n",
    "    "
   ]
  },
  {
   "cell_type": "code",
   "execution_count": 13,
   "metadata": {},
   "outputs": [
    {
     "name": "stdout",
     "output_type": "stream",
     "text": [
      "AGENCY # feature has only [58030] unique value\n",
      "AGENCY TITLE feature has only ['OUS - Oregon State University'] unique value\n"
     ]
    }
   ],
   "source": [
    "print('AGENCY # feature has only {} unique value'. format(np.unique(OU_salary['AGENCY #'])))\n",
    "print('AGENCY TITLE feature has only {} unique value'. format(np.unique(OU_salary['AGENCY TITLE'])))\n"
   ]
  },
  {
   "cell_type": "code",
   "execution_count": 14,
   "metadata": {},
   "outputs": [
    {
     "data": {
      "text/html": [
       "<div>\n",
       "<style scoped>\n",
       "    .dataframe tbody tr th:only-of-type {\n",
       "        vertical-align: middle;\n",
       "    }\n",
       "\n",
       "    .dataframe tbody tr th {\n",
       "        vertical-align: top;\n",
       "    }\n",
       "\n",
       "    .dataframe thead th {\n",
       "        text-align: right;\n",
       "    }\n",
       "</style>\n",
       "<table border=\"1\" class=\"dataframe\">\n",
       "  <thead>\n",
       "    <tr style=\"text-align: right;\">\n",
       "      <th></th>\n",
       "      <th>AGENCY #</th>\n",
       "      <th>ANNUAL SALARY</th>\n",
       "    </tr>\n",
       "  </thead>\n",
       "  <tbody>\n",
       "    <tr>\n",
       "      <th>count</th>\n",
       "      <td>5243.0</td>\n",
       "      <td>5.243000e+03</td>\n",
       "    </tr>\n",
       "    <tr>\n",
       "      <th>mean</th>\n",
       "      <td>58030.0</td>\n",
       "      <td>5.955592e+04</td>\n",
       "    </tr>\n",
       "    <tr>\n",
       "      <th>std</th>\n",
       "      <td>0.0</td>\n",
       "      <td>4.172921e+04</td>\n",
       "    </tr>\n",
       "    <tr>\n",
       "      <th>min</th>\n",
       "      <td>58030.0</td>\n",
       "      <td>6.600000e+02</td>\n",
       "    </tr>\n",
       "    <tr>\n",
       "      <th>25%</th>\n",
       "      <td>58030.0</td>\n",
       "      <td>3.547200e+04</td>\n",
       "    </tr>\n",
       "    <tr>\n",
       "      <th>50%</th>\n",
       "      <td>58030.0</td>\n",
       "      <td>4.941600e+04</td>\n",
       "    </tr>\n",
       "    <tr>\n",
       "      <th>75%</th>\n",
       "      <td>58030.0</td>\n",
       "      <td>7.468800e+04</td>\n",
       "    </tr>\n",
       "    <tr>\n",
       "      <th>max</th>\n",
       "      <td>58030.0</td>\n",
       "      <td>1.060008e+06</td>\n",
       "    </tr>\n",
       "  </tbody>\n",
       "</table>\n",
       "</div>"
      ],
      "text/plain": [
       "       AGENCY #  ANNUAL SALARY\n",
       "count    5243.0   5.243000e+03\n",
       "mean    58030.0   5.955592e+04\n",
       "std         0.0   4.172921e+04\n",
       "min     58030.0   6.600000e+02\n",
       "25%     58030.0   3.547200e+04\n",
       "50%     58030.0   4.941600e+04\n",
       "75%     58030.0   7.468800e+04\n",
       "max     58030.0   1.060008e+06"
      ]
     },
     "execution_count": 14,
     "metadata": {},
     "output_type": "execute_result"
    }
   ],
   "source": [
    "OU_salary.describe()"
   ]
  },
  {
   "cell_type": "code",
   "execution_count": 16,
   "metadata": {},
   "outputs": [
    {
     "data": {
      "image/png": "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\n",
      "text/plain": [
       "<Figure size 1440x1080 with 2 Axes>"
      ]
     },
     "metadata": {
      "needs_background": "light"
     },
     "output_type": "display_data"
    }
   ],
   "source": [
    "%matplotlib inline\n",
    "OU_salary.hist(bins=60, figsize=(20, 15))\n",
    "plt.show()"
   ]
  },
  {
   "cell_type": "markdown",
   "metadata": {},
   "source": [
    "# <span style='font-family:Georgia'>Data preparation"
   ]
  },
  {
   "cell_type": "code",
   "execution_count": 17,
   "metadata": {},
   "outputs": [],
   "source": [
    "# Dropping columns 'AGENCY #' and 'AGENCY TITLE' as they provide no useful information for our algorithm\n",
    "OU_salary.drop(['AGENCY #', 'AGENCY TITLE'], axis=1, inplace=True)"
   ]
  },
  {
   "cell_type": "code",
   "execution_count": 18,
   "metadata": {},
   "outputs": [],
   "source": [
    "# Represent the 'SERVICE TYPE' as numeric types\n",
    "OU_salary['SERVICE TYPE'] = OU_salary['SERVICE TYPE'].map({\n",
    "    'Classified Staff': 1,\n",
    "    'Faculty': 2,\n",
    "    'Other professionals': 3,\n",
    "    'Executive/Admin and managerial': 4 \n",
    "}).astype(int)"
   ]
  },
  {
   "cell_type": "code",
   "execution_count": 19,
   "metadata": {},
   "outputs": [
    {
     "data": {
      "text/html": [
       "<div>\n",
       "<style scoped>\n",
       "    .dataframe tbody tr th:only-of-type {\n",
       "        vertical-align: middle;\n",
       "    }\n",
       "\n",
       "    .dataframe tbody tr th {\n",
       "        vertical-align: top;\n",
       "    }\n",
       "\n",
       "    .dataframe thead th {\n",
       "        text-align: right;\n",
       "    }\n",
       "</style>\n",
       "<table border=\"1\" class=\"dataframe\">\n",
       "  <thead>\n",
       "    <tr style=\"text-align: right;\">\n",
       "      <th></th>\n",
       "      <th>CLASSIFICATION</th>\n",
       "      <th>SERVICE TYPE</th>\n",
       "      <th>FULL/PART-TIME</th>\n",
       "      <th>ANNUAL SALARY</th>\n",
       "    </tr>\n",
       "  </thead>\n",
       "  <tbody>\n",
       "    <tr>\n",
       "      <th>0</th>\n",
       "      <td>Administrator 3-Tier 1 H-COA</td>\n",
       "      <td>4</td>\n",
       "      <td>Full-Time</td>\n",
       "      <td>1060008</td>\n",
       "    </tr>\n",
       "    <tr>\n",
       "      <th>1</th>\n",
       "      <td>Administrator 3-PAC12 Md H-COA</td>\n",
       "      <td>4</td>\n",
       "      <td>Full-Time</td>\n",
       "      <td>800004</td>\n",
       "    </tr>\n",
       "    <tr>\n",
       "      <th>2</th>\n",
       "      <td>Executive 3-Athletics</td>\n",
       "      <td>4</td>\n",
       "      <td>Full-Time</td>\n",
       "      <td>545508</td>\n",
       "    </tr>\n",
       "    <tr>\n",
       "      <th>3</th>\n",
       "      <td>Coordinator-Tier 1 Asst COA</td>\n",
       "      <td>3</td>\n",
       "      <td>Full-Time</td>\n",
       "      <td>490008</td>\n",
       "    </tr>\n",
       "    <tr>\n",
       "      <th>4</th>\n",
       "      <td>Executive 1-President</td>\n",
       "      <td>4</td>\n",
       "      <td>Full-Time</td>\n",
       "      <td>485088</td>\n",
       "    </tr>\n",
       "  </tbody>\n",
       "</table>\n",
       "</div>"
      ],
      "text/plain": [
       "                   CLASSIFICATION  SERVICE TYPE FULL/PART-TIME  ANNUAL SALARY\n",
       "0    Administrator 3-Tier 1 H-COA             4      Full-Time        1060008\n",
       "1  Administrator 3-PAC12 Md H-COA             4      Full-Time         800004\n",
       "2           Executive 3-Athletics             4      Full-Time         545508\n",
       "3     Coordinator-Tier 1 Asst COA             3      Full-Time         490008\n",
       "4           Executive 1-President             4      Full-Time         485088"
      ]
     },
     "execution_count": 19,
     "metadata": {},
     "output_type": "execute_result"
    }
   ],
   "source": [
    "OU_salary.head()"
   ]
  },
  {
   "cell_type": "code",
   "execution_count": 20,
   "metadata": {},
   "outputs": [],
   "source": [
    "# Replace 'FULL/PART-TIME' feature by total number of hours worked per week. 40hrs/wk and 30hrs/wk for full-time and part-time respectively\n",
    "OU_salary['FULL/PART-TIME'] = OU_salary['FULL/PART-TIME'].map({\n",
    "    'Full-Time': 40,\n",
    "    'Part-Time': 30}).astype(float)"
   ]
  },
  {
   "cell_type": "code",
   "execution_count": 21,
   "metadata": {},
   "outputs": [
    {
     "data": {
      "text/html": [
       "<div>\n",
       "<style scoped>\n",
       "    .dataframe tbody tr th:only-of-type {\n",
       "        vertical-align: middle;\n",
       "    }\n",
       "\n",
       "    .dataframe tbody tr th {\n",
       "        vertical-align: top;\n",
       "    }\n",
       "\n",
       "    .dataframe thead th {\n",
       "        text-align: right;\n",
       "    }\n",
       "</style>\n",
       "<table border=\"1\" class=\"dataframe\">\n",
       "  <thead>\n",
       "    <tr style=\"text-align: right;\">\n",
       "      <th></th>\n",
       "      <th>CLASSIFICATION</th>\n",
       "      <th>SERVICE TYPE</th>\n",
       "      <th>FULL/PART-TIME</th>\n",
       "      <th>ANNUAL SALARY</th>\n",
       "    </tr>\n",
       "  </thead>\n",
       "  <tbody>\n",
       "    <tr>\n",
       "      <th>0</th>\n",
       "      <td>Administrator 3-Tier 1 H-COA</td>\n",
       "      <td>4</td>\n",
       "      <td>40.0</td>\n",
       "      <td>1060008</td>\n",
       "    </tr>\n",
       "    <tr>\n",
       "      <th>1</th>\n",
       "      <td>Administrator 3-PAC12 Md H-COA</td>\n",
       "      <td>4</td>\n",
       "      <td>40.0</td>\n",
       "      <td>800004</td>\n",
       "    </tr>\n",
       "    <tr>\n",
       "      <th>2</th>\n",
       "      <td>Executive 3-Athletics</td>\n",
       "      <td>4</td>\n",
       "      <td>40.0</td>\n",
       "      <td>545508</td>\n",
       "    </tr>\n",
       "    <tr>\n",
       "      <th>3</th>\n",
       "      <td>Coordinator-Tier 1 Asst COA</td>\n",
       "      <td>3</td>\n",
       "      <td>40.0</td>\n",
       "      <td>490008</td>\n",
       "    </tr>\n",
       "    <tr>\n",
       "      <th>4</th>\n",
       "      <td>Executive 1-President</td>\n",
       "      <td>4</td>\n",
       "      <td>40.0</td>\n",
       "      <td>485088</td>\n",
       "    </tr>\n",
       "  </tbody>\n",
       "</table>\n",
       "</div>"
      ],
      "text/plain": [
       "                   CLASSIFICATION  SERVICE TYPE  FULL/PART-TIME  ANNUAL SALARY\n",
       "0    Administrator 3-Tier 1 H-COA             4            40.0        1060008\n",
       "1  Administrator 3-PAC12 Md H-COA             4            40.0         800004\n",
       "2           Executive 3-Athletics             4            40.0         545508\n",
       "3     Coordinator-Tier 1 Asst COA             3            40.0         490008\n",
       "4           Executive 1-President             4            40.0         485088"
      ]
     },
     "execution_count": 21,
     "metadata": {},
     "output_type": "execute_result"
    }
   ],
   "source": [
    "OU_salary.head()"
   ]
  },
  {
   "cell_type": "code",
   "execution_count": 22,
   "metadata": {},
   "outputs": [],
   "source": [
    "OU_salary.columns = ['CLASSIFICATION', 'SERVICE TYPE', 'HOURS/WEEK', 'ANNUAL SALARY']"
   ]
  },
  {
   "cell_type": "code",
   "execution_count": 23,
   "metadata": {},
   "outputs": [
    {
     "data": {
      "text/html": [
       "<div>\n",
       "<style scoped>\n",
       "    .dataframe tbody tr th:only-of-type {\n",
       "        vertical-align: middle;\n",
       "    }\n",
       "\n",
       "    .dataframe tbody tr th {\n",
       "        vertical-align: top;\n",
       "    }\n",
       "\n",
       "    .dataframe thead th {\n",
       "        text-align: right;\n",
       "    }\n",
       "</style>\n",
       "<table border=\"1\" class=\"dataframe\">\n",
       "  <thead>\n",
       "    <tr style=\"text-align: right;\">\n",
       "      <th></th>\n",
       "      <th>CLASSIFICATION</th>\n",
       "      <th>SERVICE TYPE</th>\n",
       "      <th>HOURS/WEEK</th>\n",
       "      <th>ANNUAL SALARY</th>\n",
       "    </tr>\n",
       "  </thead>\n",
       "  <tbody>\n",
       "    <tr>\n",
       "      <th>0</th>\n",
       "      <td>Administrator 3-Tier 1 H-COA</td>\n",
       "      <td>4</td>\n",
       "      <td>40.0</td>\n",
       "      <td>1060008</td>\n",
       "    </tr>\n",
       "    <tr>\n",
       "      <th>1</th>\n",
       "      <td>Administrator 3-PAC12 Md H-COA</td>\n",
       "      <td>4</td>\n",
       "      <td>40.0</td>\n",
       "      <td>800004</td>\n",
       "    </tr>\n",
       "    <tr>\n",
       "      <th>2</th>\n",
       "      <td>Executive 3-Athletics</td>\n",
       "      <td>4</td>\n",
       "      <td>40.0</td>\n",
       "      <td>545508</td>\n",
       "    </tr>\n",
       "    <tr>\n",
       "      <th>3</th>\n",
       "      <td>Coordinator-Tier 1 Asst COA</td>\n",
       "      <td>3</td>\n",
       "      <td>40.0</td>\n",
       "      <td>490008</td>\n",
       "    </tr>\n",
       "    <tr>\n",
       "      <th>4</th>\n",
       "      <td>Executive 1-President</td>\n",
       "      <td>4</td>\n",
       "      <td>40.0</td>\n",
       "      <td>485088</td>\n",
       "    </tr>\n",
       "  </tbody>\n",
       "</table>\n",
       "</div>"
      ],
      "text/plain": [
       "                   CLASSIFICATION  SERVICE TYPE  HOURS/WEEK  ANNUAL SALARY\n",
       "0    Administrator 3-Tier 1 H-COA             4        40.0        1060008\n",
       "1  Administrator 3-PAC12 Md H-COA             4        40.0         800004\n",
       "2           Executive 3-Athletics             4        40.0         545508\n",
       "3     Coordinator-Tier 1 Asst COA             3        40.0         490008\n",
       "4           Executive 1-President             4        40.0         485088"
      ]
     },
     "execution_count": 23,
     "metadata": {},
     "output_type": "execute_result"
    }
   ],
   "source": [
    "OU_salary.head()"
   ]
  },
  {
   "cell_type": "code",
   "execution_count": 24,
   "metadata": {},
   "outputs": [],
   "source": [
    "OU_salary_y = OU_salary['ANNUAL SALARY']\n",
    "OU_salary_X = OU_salary.drop('ANNUAL SALARY', axis=1)"
   ]
  },
  {
   "cell_type": "code",
   "execution_count": 25,
   "metadata": {},
   "outputs": [],
   "source": [
    "OU_salary_num = OU_salary_X.drop(['CLASSIFICATION'], axis=1)\n"
   ]
  },
  {
   "cell_type": "code",
   "execution_count": 26,
   "metadata": {},
   "outputs": [],
   "source": [
    "from sklearn.compose import ColumnTransformer\n",
    "from sklearn.impute import SimpleImputer\n",
    "from sklearn.preprocessing import OneHotEncoder"
   ]
  },
  {
   "cell_type": "code",
   "execution_count": 27,
   "metadata": {},
   "outputs": [],
   "source": [
    "def prepare_data(training_data, numerical_features, cat_cols = None):\n",
    "    \"\"\"Function containing pipeline to prepare dataset for the learning algorithm\n",
    "    Input: training_data: Variable name of the training data,\n",
    "           numerical_features: Columns with numerical values\n",
    "           cat_cols: List of categorical non-numeric columns\n",
    "    Output:The function returns the prepared data\n",
    "    \"\"\"\n",
    "    \n",
    "    num_cols = list(numerical_features)\n",
    "    cat_cols = cat_cols\n",
    "\n",
    "    Trans_pipeline = ColumnTransformer([\n",
    "        ('num', SimpleImputer(), num_cols),\n",
    "        ('cat', OneHotEncoder(sparse=False), cat_cols)\n",
    "    ])\n",
    "\n",
    "    return Trans_pipeline.fit_transform(training_data)"
   ]
  },
  {
   "cell_type": "code",
   "execution_count": 28,
   "metadata": {},
   "outputs": [],
   "source": [
    "OU_salary_trans = prepare_data(OU_salary_X, OU_salary_num, cat_cols = ['CLASSIFICATION'])"
   ]
  },
  {
   "cell_type": "code",
   "execution_count": 29,
   "metadata": {},
   "outputs": [
    {
     "data": {
      "text/plain": [
       "array([[ 4., 40.,  0., ...,  0.,  0.,  0.],\n",
       "       [ 4., 40.,  0., ...,  0.,  0.,  0.],\n",
       "       [ 4., 40.,  0., ...,  0.,  0.,  0.],\n",
       "       ...,\n",
       "       [ 2., 30.,  0., ...,  0.,  0.,  0.],\n",
       "       [ 1., 30.,  0., ...,  0.,  0.,  0.],\n",
       "       [ 2., 30.,  0., ...,  0.,  0.,  0.]])"
      ]
     },
     "execution_count": 29,
     "metadata": {},
     "output_type": "execute_result"
    }
   ],
   "source": [
    "OU_salary_trans"
   ]
  },
  {
   "cell_type": "code",
   "execution_count": 30,
   "metadata": {},
   "outputs": [
    {
     "data": {
      "text/plain": [
       "(5243, 574)"
      ]
     },
     "execution_count": 30,
     "metadata": {},
     "output_type": "execute_result"
    }
   ],
   "source": [
    "OU_salary_trans.shape"
   ]
  },
  {
   "cell_type": "code",
   "execution_count": 31,
   "metadata": {},
   "outputs": [
    {
     "data": {
      "text/plain": [
       "array([1060008,  800004,  545508, ...,    1202,     804,     660],\n",
       "      dtype=int64)"
      ]
     },
     "execution_count": 31,
     "metadata": {},
     "output_type": "execute_result"
    }
   ],
   "source": [
    "OU_salary_y.values"
   ]
  },
  {
   "cell_type": "code",
   "execution_count": 32,
   "metadata": {},
   "outputs": [],
   "source": [
    "# Partition the dataset into 80% training and 20% test set\n",
    "from sklearn.model_selection import train_test_split\n",
    "\n",
    "OU_salary_X_train, OU_salary_X_test, OU_salary_y_train, OU_salary_y_test = train_test_split(OU_salary_trans, OU_salary_y.values, test_size=0.20, random_state=42)"
   ]
  },
  {
   "cell_type": "markdown",
   "metadata": {},
   "source": [
    "# <span style='font-family:Georgia'>Model development"
   ]
  },
  {
   "cell_type": "code",
   "execution_count": 33,
   "metadata": {},
   "outputs": [],
   "source": [
    "# Import libraries\n",
    "from sklearn.linear_model import LinearRegression\n",
    "from sklearn.ensemble import RandomForestRegressor\n",
    "from sklearn.ensemble import ExtraTreesRegressor\n",
    "from sklearn.metrics import mean_squared_error"
   ]
  },
  {
   "cell_type": "code",
   "execution_count": 34,
   "metadata": {},
   "outputs": [
    {
     "data": {
      "text/plain": [
       "LinearRegression(copy_X=True, fit_intercept=True, n_jobs=None, normalize=False)"
      ]
     },
     "execution_count": 34,
     "metadata": {},
     "output_type": "execute_result"
    }
   ],
   "source": [
    "# Train linear regression model \n",
    "OU_salary_LReg = LinearRegression()\n",
    "OU_salary_LReg.fit(OU_salary_X_train, OU_salary_y_train)"
   ]
  },
  {
   "cell_type": "code",
   "execution_count": 39,
   "metadata": {},
   "outputs": [
    {
     "name": "stdout",
     "output_type": "stream",
     "text": [
      "LReg_train_RMSE: 16651.5\n"
     ]
    }
   ],
   "source": [
    "# Measure linear regression training error\n",
    "LReg_predictions = OU_salary_LReg.predict(OU_salary_X_train)\n",
    "\n",
    "LReg_train_mse = mean_squared_error(OU_salary_y_train, LReg_predictions)\n",
    "LReg_train_rmse = np.sqrt(LReg_train_mse)\n",
    "print(\"LReg_train_RMSE:\", np.round(LReg_train_rmse, 2))"
   ]
  },
  {
   "cell_type": "code",
   "execution_count": 36,
   "metadata": {},
   "outputs": [
    {
     "name": "stderr",
     "output_type": "stream",
     "text": [
      "C:\\Anaconda\\lib\\site-packages\\sklearn\\ensemble\\forest.py:245: FutureWarning: The default value of n_estimators will change from 10 in version 0.20 to 100 in 0.22.\n",
      "  \"10 in version 0.20 to 100 in 0.22.\", FutureWarning)\n"
     ]
    },
    {
     "data": {
      "text/plain": [
       "RandomForestRegressor(bootstrap=True, criterion='mse', max_depth=None,\n",
       "                      max_features='auto', max_leaf_nodes=None,\n",
       "                      min_impurity_decrease=0.0, min_impurity_split=None,\n",
       "                      min_samples_leaf=1, min_samples_split=2,\n",
       "                      min_weight_fraction_leaf=0.0, n_estimators=10,\n",
       "                      n_jobs=None, oob_score=False, random_state=42, verbose=0,\n",
       "                      warm_start=False)"
      ]
     },
     "execution_count": 36,
     "metadata": {},
     "output_type": "execute_result"
    }
   ],
   "source": [
    "# Train random forest regression model \n",
    "OU_salary_RForest = RandomForestRegressor(random_state=42)\n",
    "OU_salary_RForest.fit(OU_salary_X_train, OU_salary_y_train)"
   ]
  },
  {
   "cell_type": "code",
   "execution_count": 38,
   "metadata": {},
   "outputs": [
    {
     "name": "stdout",
     "output_type": "stream",
     "text": [
      "RForest_train_RMSE: 17818.16\n"
     ]
    }
   ],
   "source": [
    "# Measure random forest training error\n",
    "RForest_train_predictions = OU_salary_RForest.predict(OU_salary_X_train)\n",
    "\n",
    "RForest_train_mse = mean_squared_error(OU_salary_y_train, RForest_train_predictions)\n",
    "RForest_train_rmse = np.sqrt(RForest_train_mse)\n",
    "print(\"RForest_train_RMSE:\", np.round(RForest_train_rmse, 2))"
   ]
  },
  {
   "cell_type": "code",
   "execution_count": 40,
   "metadata": {},
   "outputs": [
    {
     "name": "stderr",
     "output_type": "stream",
     "text": [
      "C:\\Anaconda\\lib\\site-packages\\sklearn\\ensemble\\forest.py:245: FutureWarning: The default value of n_estimators will change from 10 in version 0.20 to 100 in 0.22.\n",
      "  \"10 in version 0.20 to 100 in 0.22.\", FutureWarning)\n"
     ]
    },
    {
     "data": {
      "text/plain": [
       "ExtraTreesRegressor(bootstrap=False, criterion='mse', max_depth=None,\n",
       "                    max_features='auto', max_leaf_nodes=None,\n",
       "                    min_impurity_decrease=0.0, min_impurity_split=None,\n",
       "                    min_samples_leaf=1, min_samples_split=2,\n",
       "                    min_weight_fraction_leaf=0.0, n_estimators=10, n_jobs=None,\n",
       "                    oob_score=False, random_state=42, verbose=0,\n",
       "                    warm_start=False)"
      ]
     },
     "execution_count": 40,
     "metadata": {},
     "output_type": "execute_result"
    }
   ],
   "source": [
    "# Train Extra trees regressor model \n",
    "OU_salary_Xtrees = ExtraTreesRegressor(random_state=42)\n",
    "OU_salary_Xtrees.fit(OU_salary_X_train, OU_salary_y_train)"
   ]
  },
  {
   "cell_type": "code",
   "execution_count": 41,
   "metadata": {},
   "outputs": [
    {
     "name": "stdout",
     "output_type": "stream",
     "text": [
      "Xtrees_train_RMSE: 16475.77\n"
     ]
    }
   ],
   "source": [
    "# Measure Extra trees regressor training error\n",
    "Xtrees_train_predictions = OU_salary_Xtrees.predict(OU_salary_X_train)\n",
    "Xtrees_train_mse = mean_squared_error(OU_salary_y_train, Xtrees_train_predictions)\n",
    "Xtrees_train_rmse = np.sqrt(Xtrees_train_mse)\n",
    "print(\"Xtrees_train_RMSE:\", np.round(Xtrees_train_rmse, 2))"
   ]
  },
  {
   "cell_type": "markdown",
   "metadata": {},
   "source": [
    "<span style='font-family:Georgia'> As Extra trees model has the least RMSE, we will now select it as our model of choice and improve its performance.\n",
    "Before going forward, let's plot its learning curve to diagnose our model."
   ]
  },
  {
   "cell_type": "code",
   "execution_count": null,
   "metadata": {},
   "outputs": [],
   "source": [
    "\plot_learning_curves(OU_salary_Xtrees, OU_salary_trans, OU_salary_y.values)\n",
    "plt.title('ExtraTrees_model_learning_curve_plot')\n",
    "save_fig(\"ExtraTrees_model_learning_curve_plot.\")"
   ]
  },
  {
   "cell_type": "markdown",
   "metadata": {},
   "source": [
    "![Model learning curve](images\\Oregon_Uni_salary_project\\ExtraTrees_model_learning_curve_plot..png)"
   ]
  },
  {
   "cell_type": "markdown",
   "metadata": {},
   "source": [
    "<span style='font-family:Georgia'> The plot shows that as the dataset increases, the training error increases while the validation error\n",
    "decreases. As the validation error curve plateaus, increasing the dataset will not improve the model performance.  \n",
    "    We will fetch more features to reduce its bias.\n",
    "More features will now be obtained from the Oregon state University website. "
   ]
  },
  {
   "cell_type": "markdown",
   "metadata": {},
   "source": [
    "# <span style='font-family:Georgia'>Improve model performance\n",
    "\n",
    "<span style='font-family:Georgia'> Sourced for informative feature (salary grade) to improve the predictive power of the model from the Oregon State University salary website. It was discovered that salary of each employee is a function of salary grade. This is the only feature available on the website to improve our model."
   ]
  },
  {
   "cell_type": "code",
   "execution_count": 42,
   "metadata": {},
   "outputs": [],
   "source": [
    "# Dataset with 'SALARY GRADE' feature\n",
    "salary_grade_path = os.path.join(\"datasets\", \"Oregon_Uni_data\", \"Salaries__OUS__salary grade.csv\")\n",
    "OU_salary_SGrade = pd.read_csv(salary_grade_path)"
   ]
  },
  {
   "cell_type": "code",
   "execution_count": 45,
   "metadata": {},
   "outputs": [
    {
     "data": {
      "text/html": [
       "<div>\n",
       "<style scoped>\n",
       "    .dataframe tbody tr th:only-of-type {\n",
       "        vertical-align: middle;\n",
       "    }\n",
       "\n",
       "    .dataframe tbody tr th {\n",
       "        vertical-align: top;\n",
       "    }\n",
       "\n",
       "    .dataframe thead th {\n",
       "        text-align: right;\n",
       "    }\n",
       "</style>\n",
       "<table border=\"1\" class=\"dataframe\">\n",
       "  <thead>\n",
       "    <tr style=\"text-align: right;\">\n",
       "      <th></th>\n",
       "      <th>SALARY GRADE</th>\n",
       "    </tr>\n",
       "  </thead>\n",
       "  <tbody>\n",
       "    <tr>\n",
       "      <th>0</th>\n",
       "      <td>99</td>\n",
       "    </tr>\n",
       "    <tr>\n",
       "      <th>1</th>\n",
       "      <td>99</td>\n",
       "    </tr>\n",
       "    <tr>\n",
       "      <th>2</th>\n",
       "      <td>99</td>\n",
       "    </tr>\n",
       "    <tr>\n",
       "      <th>3</th>\n",
       "      <td>99</td>\n",
       "    </tr>\n",
       "    <tr>\n",
       "      <th>4</th>\n",
       "      <td>99</td>\n",
       "    </tr>\n",
       "  </tbody>\n",
       "</table>\n",
       "</div>"
      ],
      "text/plain": [
       "   SALARY GRADE\n",
       "0            99\n",
       "1            99\n",
       "2            99\n",
       "3            99\n",
       "4            99"
      ]
     },
     "execution_count": 45,
     "metadata": {},
     "output_type": "execute_result"
    }
   ],
   "source": [
    "OU_salary_SGrade.head()"
   ]
  },
  {
   "cell_type": "code",
   "execution_count": 46,
   "metadata": {},
   "outputs": [],
   "source": [
    "OU_salary['SALARY_GRADE'] = OU_salary_SGrade"
   ]
  },
  {
   "cell_type": "code",
   "execution_count": 47,
   "metadata": {},
   "outputs": [
    {
     "data": {
      "text/html": [
       "<div>\n",
       "<style scoped>\n",
       "    .dataframe tbody tr th:only-of-type {\n",
       "        vertical-align: middle;\n",
       "    }\n",
       "\n",
       "    .dataframe tbody tr th {\n",
       "        vertical-align: top;\n",
       "    }\n",
       "\n",
       "    .dataframe thead th {\n",
       "        text-align: right;\n",
       "    }\n",
       "</style>\n",
       "<table border=\"1\" class=\"dataframe\">\n",
       "  <thead>\n",
       "    <tr style=\"text-align: right;\">\n",
       "      <th></th>\n",
       "      <th>CLASSIFICATION</th>\n",
       "      <th>SERVICE TYPE</th>\n",
       "      <th>HOURS/WEEK</th>\n",
       "      <th>ANNUAL SALARY</th>\n",
       "      <th>SALARY_GRADE</th>\n",
       "    </tr>\n",
       "  </thead>\n",
       "  <tbody>\n",
       "    <tr>\n",
       "      <th>0</th>\n",
       "      <td>Administrator 3-Tier 1 H-COA</td>\n",
       "      <td>4</td>\n",
       "      <td>40.0</td>\n",
       "      <td>1060008</td>\n",
       "      <td>99.0</td>\n",
       "    </tr>\n",
       "    <tr>\n",
       "      <th>1</th>\n",
       "      <td>Administrator 3-PAC12 Md H-COA</td>\n",
       "      <td>4</td>\n",
       "      <td>40.0</td>\n",
       "      <td>800004</td>\n",
       "      <td>99.0</td>\n",
       "    </tr>\n",
       "    <tr>\n",
       "      <th>2</th>\n",
       "      <td>Executive 3-Athletics</td>\n",
       "      <td>4</td>\n",
       "      <td>40.0</td>\n",
       "      <td>545508</td>\n",
       "      <td>99.0</td>\n",
       "    </tr>\n",
       "    <tr>\n",
       "      <th>3</th>\n",
       "      <td>Coordinator-Tier 1 Asst COA</td>\n",
       "      <td>3</td>\n",
       "      <td>40.0</td>\n",
       "      <td>490008</td>\n",
       "      <td>99.0</td>\n",
       "    </tr>\n",
       "    <tr>\n",
       "      <th>4</th>\n",
       "      <td>Executive 1-President</td>\n",
       "      <td>4</td>\n",
       "      <td>40.0</td>\n",
       "      <td>485088</td>\n",
       "      <td>99.0</td>\n",
       "    </tr>\n",
       "  </tbody>\n",
       "</table>\n",
       "</div>"
      ],
      "text/plain": [
       "                   CLASSIFICATION  SERVICE TYPE  HOURS/WEEK  ANNUAL SALARY  \\\n",
       "0    Administrator 3-Tier 1 H-COA             4        40.0        1060008   \n",
       "1  Administrator 3-PAC12 Md H-COA             4        40.0         800004   \n",
       "2           Executive 3-Athletics             4        40.0         545508   \n",
       "3     Coordinator-Tier 1 Asst COA             3        40.0         490008   \n",
       "4           Executive 1-President             4        40.0         485088   \n",
       "\n",
       "   SALARY_GRADE  \n",
       "0          99.0  \n",
       "1          99.0  \n",
       "2          99.0  \n",
       "3          99.0  \n",
       "4          99.0  "
      ]
     },
     "execution_count": 47,
     "metadata": {},
     "output_type": "execute_result"
    }
   ],
   "source": [
    "OU_salary.head()"
   ]
  },
  {
   "cell_type": "code",
   "execution_count": 48,
   "metadata": {},
   "outputs": [],
   "source": [
    "cols = ['CLASSIFICATION', 'SERVICE TYPE','SALARY_GRADE', 'HOURS/WEEK', 'ANNUAL SALARY']\n",
    "OU_salary = OU_salary[[c for c in cols if c in OU_salary.columns]]"
   ]
  },
  {
   "cell_type": "code",
   "execution_count": 49,
   "metadata": {},
   "outputs": [
    {
     "data": {
      "text/html": [
       "<div>\n",
       "<style scoped>\n",
       "    .dataframe tbody tr th:only-of-type {\n",
       "        vertical-align: middle;\n",
       "    }\n",
       "\n",
       "    .dataframe tbody tr th {\n",
       "        vertical-align: top;\n",
       "    }\n",
       "\n",
       "    .dataframe thead th {\n",
       "        text-align: right;\n",
       "    }\n",
       "</style>\n",
       "<table border=\"1\" class=\"dataframe\">\n",
       "  <thead>\n",
       "    <tr style=\"text-align: right;\">\n",
       "      <th></th>\n",
       "      <th>CLASSIFICATION</th>\n",
       "      <th>SERVICE TYPE</th>\n",
       "      <th>SALARY_GRADE</th>\n",
       "      <th>HOURS/WEEK</th>\n",
       "      <th>ANNUAL SALARY</th>\n",
       "    </tr>\n",
       "  </thead>\n",
       "  <tbody>\n",
       "    <tr>\n",
       "      <th>0</th>\n",
       "      <td>Administrator 3-Tier 1 H-COA</td>\n",
       "      <td>4</td>\n",
       "      <td>99.0</td>\n",
       "      <td>40.0</td>\n",
       "      <td>1060008</td>\n",
       "    </tr>\n",
       "    <tr>\n",
       "      <th>1</th>\n",
       "      <td>Administrator 3-PAC12 Md H-COA</td>\n",
       "      <td>4</td>\n",
       "      <td>99.0</td>\n",
       "      <td>40.0</td>\n",
       "      <td>800004</td>\n",
       "    </tr>\n",
       "    <tr>\n",
       "      <th>2</th>\n",
       "      <td>Executive 3-Athletics</td>\n",
       "      <td>4</td>\n",
       "      <td>99.0</td>\n",
       "      <td>40.0</td>\n",
       "      <td>545508</td>\n",
       "    </tr>\n",
       "    <tr>\n",
       "      <th>3</th>\n",
       "      <td>Coordinator-Tier 1 Asst COA</td>\n",
       "      <td>3</td>\n",
       "      <td>99.0</td>\n",
       "      <td>40.0</td>\n",
       "      <td>490008</td>\n",
       "    </tr>\n",
       "    <tr>\n",
       "      <th>4</th>\n",
       "      <td>Executive 1-President</td>\n",
       "      <td>4</td>\n",
       "      <td>99.0</td>\n",
       "      <td>40.0</td>\n",
       "      <td>485088</td>\n",
       "    </tr>\n",
       "  </tbody>\n",
       "</table>\n",
       "</div>"
      ],
      "text/plain": [
       "                   CLASSIFICATION  SERVICE TYPE  SALARY_GRADE  HOURS/WEEK  \\\n",
       "0    Administrator 3-Tier 1 H-COA             4          99.0        40.0   \n",
       "1  Administrator 3-PAC12 Md H-COA             4          99.0        40.0   \n",
       "2           Executive 3-Athletics             4          99.0        40.0   \n",
       "3     Coordinator-Tier 1 Asst COA             3          99.0        40.0   \n",
       "4           Executive 1-President             4          99.0        40.0   \n",
       "\n",
       "   ANNUAL SALARY  \n",
       "0        1060008  \n",
       "1         800004  \n",
       "2         545508  \n",
       "3         490008  \n",
       "4         485088  "
      ]
     },
     "execution_count": 49,
     "metadata": {},
     "output_type": "execute_result"
    }
   ],
   "source": [
    "OU_salary.head()"
   ]
  },
  {
   "cell_type": "code",
   "execution_count": 50,
   "metadata": {},
   "outputs": [
    {
     "name": "stdout",
     "output_type": "stream",
     "text": [
      "<class 'pandas.core.frame.DataFrame'>\n",
      "RangeIndex: 5243 entries, 0 to 5242\n",
      "Data columns (total 5 columns):\n",
      "CLASSIFICATION    5243 non-null object\n",
      "SERVICE TYPE      5243 non-null int32\n",
      "SALARY_GRADE      1852 non-null float64\n",
      "HOURS/WEEK        5243 non-null float64\n",
      "ANNUAL SALARY     5243 non-null int64\n",
      "dtypes: float64(2), int32(1), int64(1), object(1)\n",
      "memory usage: 184.4+ KB\n"
     ]
    }
   ],
   "source": [
    "OU_salary.info()"
   ]
  },
  {
   "cell_type": "code",
   "execution_count": 51,
   "metadata": {},
   "outputs": [],
   "source": [
    "OU_salary_y = OU_salary['ANNUAL SALARY']\n",
    "OU_salary_X = OU_salary.drop('ANNUAL SALARY', axis=1)"
   ]
  },
  {
   "cell_type": "code",
   "execution_count": 52,
   "metadata": {},
   "outputs": [
    {
     "data": {
      "text/html": [
       "<div>\n",
       "<style scoped>\n",
       "    .dataframe tbody tr th:only-of-type {\n",
       "        vertical-align: middle;\n",
       "    }\n",
       "\n",
       "    .dataframe tbody tr th {\n",
       "        vertical-align: top;\n",
       "    }\n",
       "\n",
       "    .dataframe thead th {\n",
       "        text-align: right;\n",
       "    }\n",
       "</style>\n",
       "<table border=\"1\" class=\"dataframe\">\n",
       "  <thead>\n",
       "    <tr style=\"text-align: right;\">\n",
       "      <th></th>\n",
       "      <th>CLASSIFICATION</th>\n",
       "      <th>SERVICE TYPE</th>\n",
       "      <th>SALARY_GRADE</th>\n",
       "      <th>HOURS/WEEK</th>\n",
       "    </tr>\n",
       "  </thead>\n",
       "  <tbody>\n",
       "    <tr>\n",
       "      <th>0</th>\n",
       "      <td>Administrator 3-Tier 1 H-COA</td>\n",
       "      <td>4</td>\n",
       "      <td>99.0</td>\n",
       "      <td>40.0</td>\n",
       "    </tr>\n",
       "    <tr>\n",
       "      <th>1</th>\n",
       "      <td>Administrator 3-PAC12 Md H-COA</td>\n",
       "      <td>4</td>\n",
       "      <td>99.0</td>\n",
       "      <td>40.0</td>\n",
       "    </tr>\n",
       "    <tr>\n",
       "      <th>2</th>\n",
       "      <td>Executive 3-Athletics</td>\n",
       "      <td>4</td>\n",
       "      <td>99.0</td>\n",
       "      <td>40.0</td>\n",
       "    </tr>\n",
       "    <tr>\n",
       "      <th>3</th>\n",
       "      <td>Coordinator-Tier 1 Asst COA</td>\n",
       "      <td>3</td>\n",
       "      <td>99.0</td>\n",
       "      <td>40.0</td>\n",
       "    </tr>\n",
       "    <tr>\n",
       "      <th>4</th>\n",
       "      <td>Executive 1-President</td>\n",
       "      <td>4</td>\n",
       "      <td>99.0</td>\n",
       "      <td>40.0</td>\n",
       "    </tr>\n",
       "  </tbody>\n",
       "</table>\n",
       "</div>"
      ],
      "text/plain": [
       "                   CLASSIFICATION  SERVICE TYPE  SALARY_GRADE  HOURS/WEEK\n",
       "0    Administrator 3-Tier 1 H-COA             4          99.0        40.0\n",
       "1  Administrator 3-PAC12 Md H-COA             4          99.0        40.0\n",
       "2           Executive 3-Athletics             4          99.0        40.0\n",
       "3     Coordinator-Tier 1 Asst COA             3          99.0        40.0\n",
       "4           Executive 1-President             4          99.0        40.0"
      ]
     },
     "execution_count": 52,
     "metadata": {},
     "output_type": "execute_result"
    }
   ],
   "source": [
    "OU_salary_X.head()"
   ]
  },
  {
   "cell_type": "code",
   "execution_count": 53,
   "metadata": {},
   "outputs": [],
   "source": [
    "OU_salary_num = OU_salary_X.drop(['CLASSIFICATION'], axis=1)"
   ]
  },
  {
   "cell_type": "code",
   "execution_count": 54,
   "metadata": {},
   "outputs": [],
   "source": [
    "OU_salary_trans = prepare_data(OU_salary_X, OU_salary_num, cat_cols = ['CLASSIFICATION'])"
   ]
  },
  {
   "cell_type": "code",
   "execution_count": 55,
   "metadata": {},
   "outputs": [],
   "source": [
    "# Partition the dataset into 80% training and 20% test set\n",
    "OU_salary_X_train, OU_salary_X_test, OU_salary_y_train, OU_salary_y_test = train_test_split(OU_salary_trans, OU_salary_y.values.reshape(-1,1), test_size=0.20, random_state=42)"
   ]
  },
  {
   "cell_type": "code",
   "execution_count": 57,
   "metadata": {},
   "outputs": [
    {
     "name": "stderr",
     "output_type": "stream",
     "text": [
      "C:\\Anaconda\\lib\\site-packages\\ipykernel_launcher.py:2: DataConversionWarning: A column-vector y was passed when a 1d array was expected. Please change the shape of y to (n_samples,), for example using ravel().\n",
      "  \n"
     ]
    },
    {
     "data": {
      "text/plain": [
       "ExtraTreesRegressor(bootstrap=False, criterion='mse', max_depth=None,\n",
       "                    max_features='auto', max_leaf_nodes=None,\n",
       "                    min_impurity_decrease=0.0, min_impurity_split=None,\n",
       "                    min_samples_leaf=1, min_samples_split=2,\n",
       "                    min_weight_fraction_leaf=0.0, n_estimators=10, n_jobs=None,\n",
       "                    oob_score=False, random_state=42, verbose=0,\n",
       "                    warm_start=False)"
      ]
     },
     "execution_count": 57,
     "metadata": {},
     "output_type": "execute_result"
    }
   ],
   "source": [
    "# Retrain Xtrees regressor model on the new training set\n",
    "OU_salary_Xtrees.fit(OU_salary_X_train, OU_salary_y_train)"
   ]
  },
  {
   "cell_type": "code",
   "execution_count": 59,
   "metadata": {},
   "outputs": [
    {
     "name": "stdout",
     "output_type": "stream",
     "text": [
      "Xtrees_train_RMSE: 12198.51\n"
     ]
    }
   ],
   "source": [
    "# Measure Xtrees regressor training error on modified data\n",
    "Xtrees_train_predictions = OU_salary_Xtrees.predict(OU_salary_X_train)\n",
    "Xtrees_train_mse = mean_squared_error(OU_salary_y_train, Xtrees_train_predictions)\n",
    "Xtrees_train_rmse = np.sqrt(Xtrees_train_mse)\n",
    "print(\"Xtrees_train_RMSE:\", np.round(Xtrees_train_rmse, 2))"
   ]
  },
  {
   "cell_type": "markdown",
   "metadata": {},
   "source": [
    "<span style='font-family:Georgia'> The feature addition results in about 27% decrease in our model error. We will now go ahead to evaluate\n",
    "our model prediction quality using the test set. This will let us know how it will perform on future unseen data. "
   ]
  },
  {
   "cell_type": "code",
   "execution_count": 60,
   "metadata": {},
   "outputs": [
    {
     "name": "stdout",
     "output_type": "stream",
     "text": [
      "OU_salary_Xtrees_TestRMSE: 16218.91\n"
     ]
    }
   ],
   "source": [
    "# Measure Extra trees performance on the test set\n",
    "OU_salary_Xtrees_Testpred = OU_salary_Xtrees.predict(OU_salary_X_test)\n",
    "OU_salary_Xtrees_TestMSE = mean_squared_error(OU_salary_y_test, OU_salary_Xtrees_Testpred)\n",
    "OU_salary_Xtrees_TestRMSE = np.sqrt(OU_salary_Xtrees_TestMSE)\n",
    "print(\"OU_salary_Xtrees_TestRMSE:\", np.round(OU_salary_Xtrees_TestRMSE, 2))"
   ]
  }
 ],
 "metadata": {
  "kernelspec": {
   "display_name": "Python 3",
   "language": "python",
   "name": "python3"
  },
  "language_info": {
   "codemirror_mode": {
    "name": "ipython",
    "version": 3
   },
   "file_extension": ".py",
   "mimetype": "text/x-python",
   "name": "python",
   "nbconvert_exporter": "python",
   "pygments_lexer": "ipython3",
   "version": "3.7.3"
  }
 },
 "nbformat": 4,
 "nbformat_minor": 2
}
